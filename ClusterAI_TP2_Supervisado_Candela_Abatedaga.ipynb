{
  "cells": [
    {
      "cell_type": "markdown",
      "metadata": {
        "id": "P3ANPsbtkuXj"
      },
      "source": [
        "## **Trabajo Práctico Individual n° 2: Aprendizaje Supervisado**\n",
        "____\n",
        "__Universidad Tecnológica Nacional, Buenos Aires__\\\n",
        "__Ingeniería Industrial__\\\n",
        "__Ciencia de Datos - Curso I5521__\n",
        "____"
      ]
    },
    {
      "cell_type": "markdown",
      "metadata": {
        "id": "cTPsPHb_lWTE"
      },
      "source": [
        "- Nombre: Candela\n",
        "- Apellido: Abatedaga\n",
        "- Legajo: 1673117"
      ]
    },
    {
      "cell_type": "markdown",
      "metadata": {
        "id": "E5W-65MskuXx"
      },
      "source": [
        "En este trabajo práctico aplicaremos algunas técnicas aprendidas para el aprendizaje automático supervisado.\n",
        "\n",
        "Utilizaremos un dataset de airbnb donde buscaremos predecir el precio de las noches de cada hogar en funcion de algunas variables."
      ]
    },
    {
      "cell_type": "markdown",
      "metadata": {
        "id": "mKUpHSLqkuXz"
      },
      "source": [
        "#### Variables:\n",
        "- Unnamed: 0: Variable de contador de registros (no será utilizada en nuetro análisis)\n",
        "- neighbourhood: Barrio donde se encuentra ubicado la casa.\n",
        "- room_type: Tipo de hogar en alquiler.\n",
        "- price: Precio por noche.\n",
        "- minimum_nights: Cantidad minimas de noches que pueden alquilar el hogar.\n",
        "- number_of_reviews: Cantidad de reviews\n",
        "- reviews_per_month: Tasa de reviews que tienen por mes\n",
        "- calculated_host_listings_count: Cantidad de hogares ofrecidos por el host.\n",
        "- availability_365: Cantidad de dias que se encuentra en alquiler el hogar"
      ]
    },
    {
      "cell_type": "markdown",
      "metadata": {
        "id": "hWk9Vqs8l5jg"
      },
      "source": [
        "## **Objetivos del trabajo practico**\n",
        "- resolver los requisitos que se detallan en las proximas celdas\n",
        "- dejar comentarios # en cada linea de codigo que se agregue\n",
        "- fecha limite de entrega: 20 de Octubre 2022 a las 23h59"
      ]
    },
    {
      "cell_type": "code",
      "execution_count": 1,
      "metadata": {
        "id": "7VzMW3fvkuX0"
      },
      "outputs": [],
      "source": [
        "## Importo librerías de maniupulación de datos\n",
        "import pandas as pd\n",
        "import numpy as np\n",
        "import seaborn as sns\n",
        "import matplotlib.pyplot as plt"
      ]
    },
    {
      "cell_type": "code",
      "execution_count": 2,
      "metadata": {
        "id": "NFgDAUVLNfhE"
      },
      "outputs": [],
      "source": [
        "## Importo librerías de Aprendizaje automático\n",
        "from sklearn import preprocessing\n",
        "from sklearn import linear_model\n",
        "from sklearn.model_selection import train_test_split, cross_val_score\n",
        "from sklearn.metrics import r2_score, mean_squared_error\n",
        "from sklearn.utils import shuffle\n",
        "from sklearn.preprocessing import StandardScaler\n",
        "from sklearn import preprocessing\n",
        "from sklearn.preprocessing import LabelEncoder\n",
        "from sklearn.linear_model import LinearRegression\n",
        "from sklearn.svm import SVR, LinearSVR\n",
        "from sklearn.metrics import mean_squared_error, make_scorer\n",
        "from sklearn.model_selection import GridSearchCV"
      ]
    },
    {
      "cell_type": "code",
      "execution_count": 3,
      "metadata": {
        "colab": {
          "base_uri": "https://localhost:8080/"
        },
        "id": "BlAsO9GhaZ9t",
        "outputId": "508425a1-a174-4d9b-ffa2-a878dbf7d3dd"
      },
      "outputs": [
        {
          "output_type": "stream",
          "name": "stdout",
          "text": [
            "Drive already mounted at /content/gdrive; to attempt to forcibly remount, call drive.mount(\"/content/gdrive\", force_remount=True).\n"
          ]
        }
      ],
      "source": [
        "## Monto el drive, ya que el notebook será corrido en colaboratory.\n",
        "from google.colab import drive\n",
        "drive.mount('/content/gdrive') "
      ]
    },
    {
      "cell_type": "markdown",
      "metadata": {
        "id": "v7h4SOeAkuX4"
      },
      "source": [
        "##### **Objetivo 1**\n",
        "Lo primero que deberan hacer será importar\n",
        "- el dataset bajo en nombre \"london\"\n",
        "- corroborar que lo hayamos cargado correctamente."
      ]
    },
    {
      "cell_type": "code",
      "execution_count": 4,
      "metadata": {
        "colab": {
          "base_uri": "https://localhost:8080/",
          "height": 206
        },
        "id": "luLmTrKqeGhw",
        "outputId": "71214e29-39dc-42bc-ee45-f2ed9ba62966"
      },
      "outputs": [
        {
          "output_type": "execute_result",
          "data": {
            "text/plain": [
              "   Unnamed: 0  neighbourhood        room_type  price  minimum_nights  \\\n",
              "0           0       Haringey     Private room     35               1   \n",
              "1           1         Ealing     Private room     70               2   \n",
              "2           2      Islington     Private room     45               1   \n",
              "3           5  Tower Hamlets  Entire home/apt    102               5   \n",
              "4           6         Barnet     Private room     29               5   \n",
              "\n",
              "   number_of_reviews  reviews_per_month  calculated_host_listings_count  \\\n",
              "0                131               1.71                               4   \n",
              "1                  2               0.07                               6   \n",
              "2                 14               0.14                               2   \n",
              "3                  7               0.07                              56   \n",
              "4                114               1.13                               3   \n",
              "\n",
              "   availability_365  \n",
              "0               262  \n",
              "1                62  \n",
              "2               364  \n",
              "3               295  \n",
              "4               285  "
            ],
            "text/html": [
              "\n",
              "  <div id=\"df-301087c0-da55-4743-bc3b-6947aedd87fb\">\n",
              "    <div class=\"colab-df-container\">\n",
              "      <div>\n",
              "<style scoped>\n",
              "    .dataframe tbody tr th:only-of-type {\n",
              "        vertical-align: middle;\n",
              "    }\n",
              "\n",
              "    .dataframe tbody tr th {\n",
              "        vertical-align: top;\n",
              "    }\n",
              "\n",
              "    .dataframe thead th {\n",
              "        text-align: right;\n",
              "    }\n",
              "</style>\n",
              "<table border=\"1\" class=\"dataframe\">\n",
              "  <thead>\n",
              "    <tr style=\"text-align: right;\">\n",
              "      <th></th>\n",
              "      <th>Unnamed: 0</th>\n",
              "      <th>neighbourhood</th>\n",
              "      <th>room_type</th>\n",
              "      <th>price</th>\n",
              "      <th>minimum_nights</th>\n",
              "      <th>number_of_reviews</th>\n",
              "      <th>reviews_per_month</th>\n",
              "      <th>calculated_host_listings_count</th>\n",
              "      <th>availability_365</th>\n",
              "    </tr>\n",
              "  </thead>\n",
              "  <tbody>\n",
              "    <tr>\n",
              "      <th>0</th>\n",
              "      <td>0</td>\n",
              "      <td>Haringey</td>\n",
              "      <td>Private room</td>\n",
              "      <td>35</td>\n",
              "      <td>1</td>\n",
              "      <td>131</td>\n",
              "      <td>1.71</td>\n",
              "      <td>4</td>\n",
              "      <td>262</td>\n",
              "    </tr>\n",
              "    <tr>\n",
              "      <th>1</th>\n",
              "      <td>1</td>\n",
              "      <td>Ealing</td>\n",
              "      <td>Private room</td>\n",
              "      <td>70</td>\n",
              "      <td>2</td>\n",
              "      <td>2</td>\n",
              "      <td>0.07</td>\n",
              "      <td>6</td>\n",
              "      <td>62</td>\n",
              "    </tr>\n",
              "    <tr>\n",
              "      <th>2</th>\n",
              "      <td>2</td>\n",
              "      <td>Islington</td>\n",
              "      <td>Private room</td>\n",
              "      <td>45</td>\n",
              "      <td>1</td>\n",
              "      <td>14</td>\n",
              "      <td>0.14</td>\n",
              "      <td>2</td>\n",
              "      <td>364</td>\n",
              "    </tr>\n",
              "    <tr>\n",
              "      <th>3</th>\n",
              "      <td>5</td>\n",
              "      <td>Tower Hamlets</td>\n",
              "      <td>Entire home/apt</td>\n",
              "      <td>102</td>\n",
              "      <td>5</td>\n",
              "      <td>7</td>\n",
              "      <td>0.07</td>\n",
              "      <td>56</td>\n",
              "      <td>295</td>\n",
              "    </tr>\n",
              "    <tr>\n",
              "      <th>4</th>\n",
              "      <td>6</td>\n",
              "      <td>Barnet</td>\n",
              "      <td>Private room</td>\n",
              "      <td>29</td>\n",
              "      <td>5</td>\n",
              "      <td>114</td>\n",
              "      <td>1.13</td>\n",
              "      <td>3</td>\n",
              "      <td>285</td>\n",
              "    </tr>\n",
              "  </tbody>\n",
              "</table>\n",
              "</div>\n",
              "      <button class=\"colab-df-convert\" onclick=\"convertToInteractive('df-301087c0-da55-4743-bc3b-6947aedd87fb')\"\n",
              "              title=\"Convert this dataframe to an interactive table.\"\n",
              "              style=\"display:none;\">\n",
              "        \n",
              "  <svg xmlns=\"http://www.w3.org/2000/svg\" height=\"24px\"viewBox=\"0 0 24 24\"\n",
              "       width=\"24px\">\n",
              "    <path d=\"M0 0h24v24H0V0z\" fill=\"none\"/>\n",
              "    <path d=\"M18.56 5.44l.94 2.06.94-2.06 2.06-.94-2.06-.94-.94-2.06-.94 2.06-2.06.94zm-11 1L8.5 8.5l.94-2.06 2.06-.94-2.06-.94L8.5 2.5l-.94 2.06-2.06.94zm10 10l.94 2.06.94-2.06 2.06-.94-2.06-.94-.94-2.06-.94 2.06-2.06.94z\"/><path d=\"M17.41 7.96l-1.37-1.37c-.4-.4-.92-.59-1.43-.59-.52 0-1.04.2-1.43.59L10.3 9.45l-7.72 7.72c-.78.78-.78 2.05 0 2.83L4 21.41c.39.39.9.59 1.41.59.51 0 1.02-.2 1.41-.59l7.78-7.78 2.81-2.81c.8-.78.8-2.07 0-2.86zM5.41 20L4 18.59l7.72-7.72 1.47 1.35L5.41 20z\"/>\n",
              "  </svg>\n",
              "      </button>\n",
              "      \n",
              "  <style>\n",
              "    .colab-df-container {\n",
              "      display:flex;\n",
              "      flex-wrap:wrap;\n",
              "      gap: 12px;\n",
              "    }\n",
              "\n",
              "    .colab-df-convert {\n",
              "      background-color: #E8F0FE;\n",
              "      border: none;\n",
              "      border-radius: 50%;\n",
              "      cursor: pointer;\n",
              "      display: none;\n",
              "      fill: #1967D2;\n",
              "      height: 32px;\n",
              "      padding: 0 0 0 0;\n",
              "      width: 32px;\n",
              "    }\n",
              "\n",
              "    .colab-df-convert:hover {\n",
              "      background-color: #E2EBFA;\n",
              "      box-shadow: 0px 1px 2px rgba(60, 64, 67, 0.3), 0px 1px 3px 1px rgba(60, 64, 67, 0.15);\n",
              "      fill: #174EA6;\n",
              "    }\n",
              "\n",
              "    [theme=dark] .colab-df-convert {\n",
              "      background-color: #3B4455;\n",
              "      fill: #D2E3FC;\n",
              "    }\n",
              "\n",
              "    [theme=dark] .colab-df-convert:hover {\n",
              "      background-color: #434B5C;\n",
              "      box-shadow: 0px 1px 3px 1px rgba(0, 0, 0, 0.15);\n",
              "      filter: drop-shadow(0px 1px 2px rgba(0, 0, 0, 0.3));\n",
              "      fill: #FFFFFF;\n",
              "    }\n",
              "  </style>\n",
              "\n",
              "      <script>\n",
              "        const buttonEl =\n",
              "          document.querySelector('#df-301087c0-da55-4743-bc3b-6947aedd87fb button.colab-df-convert');\n",
              "        buttonEl.style.display =\n",
              "          google.colab.kernel.accessAllowed ? 'block' : 'none';\n",
              "\n",
              "        async function convertToInteractive(key) {\n",
              "          const element = document.querySelector('#df-301087c0-da55-4743-bc3b-6947aedd87fb');\n",
              "          const dataTable =\n",
              "            await google.colab.kernel.invokeFunction('convertToInteractive',\n",
              "                                                     [key], {});\n",
              "          if (!dataTable) return;\n",
              "\n",
              "          const docLinkHtml = 'Like what you see? Visit the ' +\n",
              "            '<a target=\"_blank\" href=https://colab.research.google.com/notebooks/data_table.ipynb>data table notebook</a>'\n",
              "            + ' to learn more about interactive tables.';\n",
              "          element.innerHTML = '';\n",
              "          dataTable['output_type'] = 'display_data';\n",
              "          await google.colab.output.renderOutput(dataTable, element);\n",
              "          const docLink = document.createElement('div');\n",
              "          docLink.innerHTML = docLinkHtml;\n",
              "          element.appendChild(docLink);\n",
              "        }\n",
              "      </script>\n",
              "    </div>\n",
              "  </div>\n",
              "  "
            ]
          },
          "metadata": {},
          "execution_count": 4
        }
      ],
      "source": [
        "## Importo el dataset bajo el nombre \"london\".\n",
        "london = pd.read_csv('/content/gdrive/MyDrive/Nivel V/Ciencia de Datos/TP/2/TP2_airbnb_london.csv')\n",
        "## Corroboro haberlo cargado correctamente.\n",
        "london.head()"
      ]
    },
    {
      "cell_type": "markdown",
      "metadata": {
        "id": "LFZY1u8XkuX5"
      },
      "source": [
        "##### **Objetivo 2**\n",
        "Ahora imprimir también las dimensiones del dataset y eliminar la variable \"Unnamed:0\" del dataset.\n",
        "Volver a guardar el dataset sin esta variable bajo el nombre \"london\" "
      ]
    },
    {
      "cell_type": "code",
      "execution_count": 5,
      "metadata": {
        "colab": {
          "base_uri": "https://localhost:8080/"
        },
        "id": "V6WzWe1JkuX7",
        "outputId": "9a63a600-e2bb-445b-e507-42ba952418f7"
      },
      "outputs": [
        {
          "output_type": "stream",
          "name": "stdout",
          "text": [
            "Dimensiones del dataset: (51827, 9)\n"
          ]
        }
      ],
      "source": [
        "## Imprimo las dimensiones del dataset.\n",
        "print(f'Dimensiones del dataset: {london.shape}')"
      ]
    },
    {
      "cell_type": "code",
      "execution_count": 6,
      "metadata": {
        "id": "AbxatHUq725x",
        "colab": {
          "base_uri": "https://localhost:8080/"
        },
        "outputId": "2fdae5ab-5b44-40b5-de72-b17ad11e129d"
      },
      "outputs": [
        {
          "output_type": "execute_result",
          "data": {
            "text/plain": [
              "(5000, 9)"
            ]
          },
          "metadata": {},
          "execution_count": 6
        }
      ],
      "source": [
        "## Elimino muestras para poder correr en un tiempo lógico este notebook.\n",
        "london = london.drop(london.index[5000:])\n",
        "london.shape"
      ]
    },
    {
      "cell_type": "code",
      "execution_count": 7,
      "metadata": {
        "id": "0HOMlcBhcFvp"
      },
      "outputs": [],
      "source": [
        "## Elimino la variable \"Unnamed: 0\" del dataset y vuelvo a guardar el dataset sin dicha variable bajo el nombre \"london\"\n",
        "london = london.drop(columns=['Unnamed: 0'])"
      ]
    },
    {
      "cell_type": "code",
      "execution_count": 8,
      "metadata": {
        "colab": {
          "base_uri": "https://localhost:8080/",
          "height": 225
        },
        "id": "ymSFd9mDgmFt",
        "outputId": "832bf15f-bf70-4862-ca26-aec674478cb6"
      },
      "outputs": [
        {
          "output_type": "stream",
          "name": "stdout",
          "text": [
            "Dimensiones del dataset: (5000, 8)\n"
          ]
        },
        {
          "output_type": "execute_result",
          "data": {
            "text/plain": [
              "   neighbourhood        room_type  price  minimum_nights  number_of_reviews  \\\n",
              "0       Haringey     Private room     35               1                131   \n",
              "1         Ealing     Private room     70               2                  2   \n",
              "2      Islington     Private room     45               1                 14   \n",
              "3  Tower Hamlets  Entire home/apt    102               5                  7   \n",
              "4         Barnet     Private room     29               5                114   \n",
              "\n",
              "   reviews_per_month  calculated_host_listings_count  availability_365  \n",
              "0               1.71                               4               262  \n",
              "1               0.07                               6                62  \n",
              "2               0.14                               2               364  \n",
              "3               0.07                              56               295  \n",
              "4               1.13                               3               285  "
            ],
            "text/html": [
              "\n",
              "  <div id=\"df-362892a5-a654-460c-8428-08eedb0a267e\">\n",
              "    <div class=\"colab-df-container\">\n",
              "      <div>\n",
              "<style scoped>\n",
              "    .dataframe tbody tr th:only-of-type {\n",
              "        vertical-align: middle;\n",
              "    }\n",
              "\n",
              "    .dataframe tbody tr th {\n",
              "        vertical-align: top;\n",
              "    }\n",
              "\n",
              "    .dataframe thead th {\n",
              "        text-align: right;\n",
              "    }\n",
              "</style>\n",
              "<table border=\"1\" class=\"dataframe\">\n",
              "  <thead>\n",
              "    <tr style=\"text-align: right;\">\n",
              "      <th></th>\n",
              "      <th>neighbourhood</th>\n",
              "      <th>room_type</th>\n",
              "      <th>price</th>\n",
              "      <th>minimum_nights</th>\n",
              "      <th>number_of_reviews</th>\n",
              "      <th>reviews_per_month</th>\n",
              "      <th>calculated_host_listings_count</th>\n",
              "      <th>availability_365</th>\n",
              "    </tr>\n",
              "  </thead>\n",
              "  <tbody>\n",
              "    <tr>\n",
              "      <th>0</th>\n",
              "      <td>Haringey</td>\n",
              "      <td>Private room</td>\n",
              "      <td>35</td>\n",
              "      <td>1</td>\n",
              "      <td>131</td>\n",
              "      <td>1.71</td>\n",
              "      <td>4</td>\n",
              "      <td>262</td>\n",
              "    </tr>\n",
              "    <tr>\n",
              "      <th>1</th>\n",
              "      <td>Ealing</td>\n",
              "      <td>Private room</td>\n",
              "      <td>70</td>\n",
              "      <td>2</td>\n",
              "      <td>2</td>\n",
              "      <td>0.07</td>\n",
              "      <td>6</td>\n",
              "      <td>62</td>\n",
              "    </tr>\n",
              "    <tr>\n",
              "      <th>2</th>\n",
              "      <td>Islington</td>\n",
              "      <td>Private room</td>\n",
              "      <td>45</td>\n",
              "      <td>1</td>\n",
              "      <td>14</td>\n",
              "      <td>0.14</td>\n",
              "      <td>2</td>\n",
              "      <td>364</td>\n",
              "    </tr>\n",
              "    <tr>\n",
              "      <th>3</th>\n",
              "      <td>Tower Hamlets</td>\n",
              "      <td>Entire home/apt</td>\n",
              "      <td>102</td>\n",
              "      <td>5</td>\n",
              "      <td>7</td>\n",
              "      <td>0.07</td>\n",
              "      <td>56</td>\n",
              "      <td>295</td>\n",
              "    </tr>\n",
              "    <tr>\n",
              "      <th>4</th>\n",
              "      <td>Barnet</td>\n",
              "      <td>Private room</td>\n",
              "      <td>29</td>\n",
              "      <td>5</td>\n",
              "      <td>114</td>\n",
              "      <td>1.13</td>\n",
              "      <td>3</td>\n",
              "      <td>285</td>\n",
              "    </tr>\n",
              "  </tbody>\n",
              "</table>\n",
              "</div>\n",
              "      <button class=\"colab-df-convert\" onclick=\"convertToInteractive('df-362892a5-a654-460c-8428-08eedb0a267e')\"\n",
              "              title=\"Convert this dataframe to an interactive table.\"\n",
              "              style=\"display:none;\">\n",
              "        \n",
              "  <svg xmlns=\"http://www.w3.org/2000/svg\" height=\"24px\"viewBox=\"0 0 24 24\"\n",
              "       width=\"24px\">\n",
              "    <path d=\"M0 0h24v24H0V0z\" fill=\"none\"/>\n",
              "    <path d=\"M18.56 5.44l.94 2.06.94-2.06 2.06-.94-2.06-.94-.94-2.06-.94 2.06-2.06.94zm-11 1L8.5 8.5l.94-2.06 2.06-.94-2.06-.94L8.5 2.5l-.94 2.06-2.06.94zm10 10l.94 2.06.94-2.06 2.06-.94-2.06-.94-.94-2.06-.94 2.06-2.06.94z\"/><path d=\"M17.41 7.96l-1.37-1.37c-.4-.4-.92-.59-1.43-.59-.52 0-1.04.2-1.43.59L10.3 9.45l-7.72 7.72c-.78.78-.78 2.05 0 2.83L4 21.41c.39.39.9.59 1.41.59.51 0 1.02-.2 1.41-.59l7.78-7.78 2.81-2.81c.8-.78.8-2.07 0-2.86zM5.41 20L4 18.59l7.72-7.72 1.47 1.35L5.41 20z\"/>\n",
              "  </svg>\n",
              "      </button>\n",
              "      \n",
              "  <style>\n",
              "    .colab-df-container {\n",
              "      display:flex;\n",
              "      flex-wrap:wrap;\n",
              "      gap: 12px;\n",
              "    }\n",
              "\n",
              "    .colab-df-convert {\n",
              "      background-color: #E8F0FE;\n",
              "      border: none;\n",
              "      border-radius: 50%;\n",
              "      cursor: pointer;\n",
              "      display: none;\n",
              "      fill: #1967D2;\n",
              "      height: 32px;\n",
              "      padding: 0 0 0 0;\n",
              "      width: 32px;\n",
              "    }\n",
              "\n",
              "    .colab-df-convert:hover {\n",
              "      background-color: #E2EBFA;\n",
              "      box-shadow: 0px 1px 2px rgba(60, 64, 67, 0.3), 0px 1px 3px 1px rgba(60, 64, 67, 0.15);\n",
              "      fill: #174EA6;\n",
              "    }\n",
              "\n",
              "    [theme=dark] .colab-df-convert {\n",
              "      background-color: #3B4455;\n",
              "      fill: #D2E3FC;\n",
              "    }\n",
              "\n",
              "    [theme=dark] .colab-df-convert:hover {\n",
              "      background-color: #434B5C;\n",
              "      box-shadow: 0px 1px 3px 1px rgba(0, 0, 0, 0.15);\n",
              "      filter: drop-shadow(0px 1px 2px rgba(0, 0, 0, 0.3));\n",
              "      fill: #FFFFFF;\n",
              "    }\n",
              "  </style>\n",
              "\n",
              "      <script>\n",
              "        const buttonEl =\n",
              "          document.querySelector('#df-362892a5-a654-460c-8428-08eedb0a267e button.colab-df-convert');\n",
              "        buttonEl.style.display =\n",
              "          google.colab.kernel.accessAllowed ? 'block' : 'none';\n",
              "\n",
              "        async function convertToInteractive(key) {\n",
              "          const element = document.querySelector('#df-362892a5-a654-460c-8428-08eedb0a267e');\n",
              "          const dataTable =\n",
              "            await google.colab.kernel.invokeFunction('convertToInteractive',\n",
              "                                                     [key], {});\n",
              "          if (!dataTable) return;\n",
              "\n",
              "          const docLinkHtml = 'Like what you see? Visit the ' +\n",
              "            '<a target=\"_blank\" href=https://colab.research.google.com/notebooks/data_table.ipynb>data table notebook</a>'\n",
              "            + ' to learn more about interactive tables.';\n",
              "          element.innerHTML = '';\n",
              "          dataTable['output_type'] = 'display_data';\n",
              "          await google.colab.output.renderOutput(dataTable, element);\n",
              "          const docLink = document.createElement('div');\n",
              "          docLink.innerHTML = docLinkHtml;\n",
              "          element.appendChild(docLink);\n",
              "        }\n",
              "      </script>\n",
              "    </div>\n",
              "  </div>\n",
              "  "
            ]
          },
          "metadata": {},
          "execution_count": 8
        }
      ],
      "source": [
        "## Imprimo las nuevas dimensiones del dataset y el head del dataset para verificar la eliminición.\n",
        "print(f'Dimensiones del dataset: {london.shape}')\n",
        "\n",
        "london.head()"
      ]
    },
    {
      "cell_type": "markdown",
      "metadata": {
        "id": "i6rbeiRvkuX8"
      },
      "source": [
        "##### **Objetivo 3**\n",
        "Corroborar que el dataset no cuenta con valores nulos, si los hubiera llenarlos todos con 0."
      ]
    },
    {
      "cell_type": "code",
      "execution_count": 9,
      "metadata": {
        "id": "huJVDzyTkuX8"
      },
      "outputs": [],
      "source": [
        "## Evalúo si hay valores nulos presentes en el dataset.\n",
        "has_nans = london.isnull().values.any()"
      ]
    },
    {
      "cell_type": "code",
      "execution_count": 10,
      "metadata": {
        "id": "uknfiHaKgxtH"
      },
      "outputs": [],
      "source": [
        "## Si hubiera valores nulos presentes en el dataset los lleno con 0.\n",
        "if has_nans:\n",
        "  london.fillna(0)"
      ]
    },
    {
      "cell_type": "markdown",
      "metadata": {
        "id": "J5K3hnLhkuX9"
      },
      "source": [
        "##### **Objetivo 4**\n",
        "Mostrar el tipo de dato para las variables \"neighbourhood\" y \"room_type\"."
      ]
    },
    {
      "cell_type": "code",
      "execution_count": 11,
      "metadata": {
        "colab": {
          "base_uri": "https://localhost:8080/"
        },
        "id": "LgpYKxZalXvw",
        "outputId": "9681899d-4ba7-4dc5-e31c-6b8afac3d786"
      },
      "outputs": [
        {
          "output_type": "execute_result",
          "data": {
            "text/plain": [
              "dtype('O')"
            ]
          },
          "metadata": {},
          "execution_count": 11
        }
      ],
      "source": [
        "## Muestro el tipo de dato para la variable \"room_type\".\n",
        "london['room_type'].dtypes"
      ]
    },
    {
      "cell_type": "code",
      "execution_count": 12,
      "metadata": {
        "colab": {
          "base_uri": "https://localhost:8080/"
        },
        "id": "buyjxSDNkuX-",
        "outputId": "719a22fd-d8a1-4e16-d43c-c6699d49af26"
      },
      "outputs": [
        {
          "output_type": "execute_result",
          "data": {
            "text/plain": [
              "dtype('O')"
            ]
          },
          "metadata": {},
          "execution_count": 12
        }
      ],
      "source": [
        "## Muestro el tipo de dato para la variable \"neighbourhood\".\n",
        "london['neighbourhood'].dtypes"
      ]
    },
    {
      "cell_type": "markdown",
      "metadata": {
        "id": "qjPPQtG6kuX_"
      },
      "source": [
        "##### Dividiremos nuestro dataset en la variable dependiente \"y\" (label o etiqueta) y las variables independientes \"x\""
      ]
    },
    {
      "cell_type": "code",
      "execution_count": 13,
      "metadata": {
        "id": "1TZWtiVTkuX_"
      },
      "outputs": [],
      "source": [
        "## Divido el dataset en la variable dependiente \"y\", en este caso \"price\", y las independientes \"x\".\n",
        "y = np.array(london[[\"price\"]])\n",
        "x = london.drop(['price'], axis=1)"
      ]
    },
    {
      "cell_type": "markdown",
      "metadata": {
        "id": "s-2ujF5MkuYA"
      },
      "source": [
        "##### **Objetivo 7**\n",
        "\n",
        "Dividir el dataset entre Train y Test, tomar un test_size del 30%."
      ]
    },
    {
      "cell_type": "code",
      "execution_count": 14,
      "metadata": {
        "id": "SBepVVKIkuYA"
      },
      "outputs": [],
      "source": [
        "## Separo el dataset en train y test. Corresponderán a test el 30% de las muestras.\n",
        "xtrain, xtest, ytrain, ytest = train_test_split(x, y, test_size=0.3, random_state=4)"
      ]
    },
    {
      "cell_type": "markdown",
      "metadata": {
        "id": "-Pif7gnqkuX-"
      },
      "source": [
        "##### **Objetivo 5**\n",
        "Generar las variables dummies para estas dos variables categóricas y unirlas al dataset.\n"
      ]
    },
    {
      "cell_type": "code",
      "source": [
        "## Genero las dummies para la variable neighbourhood tanto para el set de train como para el de test.\n",
        "neigh_dummies_train = pd.get_dummies(xtrain['neighbourhood'])\n",
        "neigh_dummies_test = pd.get_dummies(xtest['neighbourhood'])"
      ],
      "metadata": {
        "id": "kDl7P_o32CL_"
      },
      "execution_count": 15,
      "outputs": []
    },
    {
      "cell_type": "code",
      "source": [
        "## Genero las dummies para la variable room_type tanto para el set de train como para el de test.\n",
        "room_dummies_train = pd.get_dummies(xtrain['room_type'])\n",
        "room_dummies_test = pd.get_dummies(xtest['room_type'])"
      ],
      "metadata": {
        "id": "uLYpNvFx3RXB"
      },
      "execution_count": 16,
      "outputs": []
    },
    {
      "cell_type": "markdown",
      "metadata": {
        "id": "D9raTKcGNfhJ"
      },
      "source": [
        "Imprimir las dimensiones y primeras lineas de estas dummies"
      ]
    },
    {
      "cell_type": "code",
      "source": [
        "## Imprimo las dimensiones y las primeras 5 líneas de las dummies generadas para la variable neighbourhood del set de train.\n",
        "print(f'Dimensiones de neigh_dummies_train: {neigh_dummies_train.shape}')\n",
        "neigh_dummies_train.head()"
      ],
      "metadata": {
        "colab": {
          "base_uri": "https://localhost:8080/",
          "height": 254
        },
        "id": "ofa_sDUl4iLR",
        "outputId": "e9f87eb7-877a-438c-cc9d-7a0b833cb643"
      },
      "execution_count": 17,
      "outputs": [
        {
          "output_type": "stream",
          "name": "stdout",
          "text": [
            "Dimensiones de neigh_dummies_train: (3500, 33)\n"
          ]
        },
        {
          "output_type": "execute_result",
          "data": {
            "text/plain": [
              "      Barking and Dagenham  Barnet  Bexley  Brent  Bromley  Camden  \\\n",
              "2599                     0       0       0      0        0       0   \n",
              "3847                     0       0       0      0        0       0   \n",
              "1012                     0       0       0      0        0       0   \n",
              "3714                     0       0       0      0        0       1   \n",
              "3080                     0       0       0      0        0       0   \n",
              "\n",
              "      City of London  Croydon  Ealing  Enfield  ...  Merton  Newham  \\\n",
              "2599               0        0       0        0  ...       0       0   \n",
              "3847               0        0       0        0  ...       0       0   \n",
              "1012               0        0       0        0  ...       0       0   \n",
              "3714               0        0       0        0  ...       0       0   \n",
              "3080               0        0       0        0  ...       0       0   \n",
              "\n",
              "      Redbridge  Richmond upon Thames  Southwark  Sutton  Tower Hamlets  \\\n",
              "2599          0                     0          0       0              1   \n",
              "3847          0                     0          0       0              1   \n",
              "1012          0                     0          0       0              0   \n",
              "3714          0                     0          0       0              0   \n",
              "3080          0                     0          0       0              1   \n",
              "\n",
              "      Waltham Forest  Wandsworth  Westminster  \n",
              "2599               0           0            0  \n",
              "3847               0           0            0  \n",
              "1012               1           0            0  \n",
              "3714               0           0            0  \n",
              "3080               0           0            0  \n",
              "\n",
              "[5 rows x 33 columns]"
            ],
            "text/html": [
              "\n",
              "  <div id=\"df-92e48db2-1a70-4947-b80a-874018a1217d\">\n",
              "    <div class=\"colab-df-container\">\n",
              "      <div>\n",
              "<style scoped>\n",
              "    .dataframe tbody tr th:only-of-type {\n",
              "        vertical-align: middle;\n",
              "    }\n",
              "\n",
              "    .dataframe tbody tr th {\n",
              "        vertical-align: top;\n",
              "    }\n",
              "\n",
              "    .dataframe thead th {\n",
              "        text-align: right;\n",
              "    }\n",
              "</style>\n",
              "<table border=\"1\" class=\"dataframe\">\n",
              "  <thead>\n",
              "    <tr style=\"text-align: right;\">\n",
              "      <th></th>\n",
              "      <th>Barking and Dagenham</th>\n",
              "      <th>Barnet</th>\n",
              "      <th>Bexley</th>\n",
              "      <th>Brent</th>\n",
              "      <th>Bromley</th>\n",
              "      <th>Camden</th>\n",
              "      <th>City of London</th>\n",
              "      <th>Croydon</th>\n",
              "      <th>Ealing</th>\n",
              "      <th>Enfield</th>\n",
              "      <th>...</th>\n",
              "      <th>Merton</th>\n",
              "      <th>Newham</th>\n",
              "      <th>Redbridge</th>\n",
              "      <th>Richmond upon Thames</th>\n",
              "      <th>Southwark</th>\n",
              "      <th>Sutton</th>\n",
              "      <th>Tower Hamlets</th>\n",
              "      <th>Waltham Forest</th>\n",
              "      <th>Wandsworth</th>\n",
              "      <th>Westminster</th>\n",
              "    </tr>\n",
              "  </thead>\n",
              "  <tbody>\n",
              "    <tr>\n",
              "      <th>2599</th>\n",
              "      <td>0</td>\n",
              "      <td>0</td>\n",
              "      <td>0</td>\n",
              "      <td>0</td>\n",
              "      <td>0</td>\n",
              "      <td>0</td>\n",
              "      <td>0</td>\n",
              "      <td>0</td>\n",
              "      <td>0</td>\n",
              "      <td>0</td>\n",
              "      <td>...</td>\n",
              "      <td>0</td>\n",
              "      <td>0</td>\n",
              "      <td>0</td>\n",
              "      <td>0</td>\n",
              "      <td>0</td>\n",
              "      <td>0</td>\n",
              "      <td>1</td>\n",
              "      <td>0</td>\n",
              "      <td>0</td>\n",
              "      <td>0</td>\n",
              "    </tr>\n",
              "    <tr>\n",
              "      <th>3847</th>\n",
              "      <td>0</td>\n",
              "      <td>0</td>\n",
              "      <td>0</td>\n",
              "      <td>0</td>\n",
              "      <td>0</td>\n",
              "      <td>0</td>\n",
              "      <td>0</td>\n",
              "      <td>0</td>\n",
              "      <td>0</td>\n",
              "      <td>0</td>\n",
              "      <td>...</td>\n",
              "      <td>0</td>\n",
              "      <td>0</td>\n",
              "      <td>0</td>\n",
              "      <td>0</td>\n",
              "      <td>0</td>\n",
              "      <td>0</td>\n",
              "      <td>1</td>\n",
              "      <td>0</td>\n",
              "      <td>0</td>\n",
              "      <td>0</td>\n",
              "    </tr>\n",
              "    <tr>\n",
              "      <th>1012</th>\n",
              "      <td>0</td>\n",
              "      <td>0</td>\n",
              "      <td>0</td>\n",
              "      <td>0</td>\n",
              "      <td>0</td>\n",
              "      <td>0</td>\n",
              "      <td>0</td>\n",
              "      <td>0</td>\n",
              "      <td>0</td>\n",
              "      <td>0</td>\n",
              "      <td>...</td>\n",
              "      <td>0</td>\n",
              "      <td>0</td>\n",
              "      <td>0</td>\n",
              "      <td>0</td>\n",
              "      <td>0</td>\n",
              "      <td>0</td>\n",
              "      <td>0</td>\n",
              "      <td>1</td>\n",
              "      <td>0</td>\n",
              "      <td>0</td>\n",
              "    </tr>\n",
              "    <tr>\n",
              "      <th>3714</th>\n",
              "      <td>0</td>\n",
              "      <td>0</td>\n",
              "      <td>0</td>\n",
              "      <td>0</td>\n",
              "      <td>0</td>\n",
              "      <td>1</td>\n",
              "      <td>0</td>\n",
              "      <td>0</td>\n",
              "      <td>0</td>\n",
              "      <td>0</td>\n",
              "      <td>...</td>\n",
              "      <td>0</td>\n",
              "      <td>0</td>\n",
              "      <td>0</td>\n",
              "      <td>0</td>\n",
              "      <td>0</td>\n",
              "      <td>0</td>\n",
              "      <td>0</td>\n",
              "      <td>0</td>\n",
              "      <td>0</td>\n",
              "      <td>0</td>\n",
              "    </tr>\n",
              "    <tr>\n",
              "      <th>3080</th>\n",
              "      <td>0</td>\n",
              "      <td>0</td>\n",
              "      <td>0</td>\n",
              "      <td>0</td>\n",
              "      <td>0</td>\n",
              "      <td>0</td>\n",
              "      <td>0</td>\n",
              "      <td>0</td>\n",
              "      <td>0</td>\n",
              "      <td>0</td>\n",
              "      <td>...</td>\n",
              "      <td>0</td>\n",
              "      <td>0</td>\n",
              "      <td>0</td>\n",
              "      <td>0</td>\n",
              "      <td>0</td>\n",
              "      <td>0</td>\n",
              "      <td>1</td>\n",
              "      <td>0</td>\n",
              "      <td>0</td>\n",
              "      <td>0</td>\n",
              "    </tr>\n",
              "  </tbody>\n",
              "</table>\n",
              "<p>5 rows × 33 columns</p>\n",
              "</div>\n",
              "      <button class=\"colab-df-convert\" onclick=\"convertToInteractive('df-92e48db2-1a70-4947-b80a-874018a1217d')\"\n",
              "              title=\"Convert this dataframe to an interactive table.\"\n",
              "              style=\"display:none;\">\n",
              "        \n",
              "  <svg xmlns=\"http://www.w3.org/2000/svg\" height=\"24px\"viewBox=\"0 0 24 24\"\n",
              "       width=\"24px\">\n",
              "    <path d=\"M0 0h24v24H0V0z\" fill=\"none\"/>\n",
              "    <path d=\"M18.56 5.44l.94 2.06.94-2.06 2.06-.94-2.06-.94-.94-2.06-.94 2.06-2.06.94zm-11 1L8.5 8.5l.94-2.06 2.06-.94-2.06-.94L8.5 2.5l-.94 2.06-2.06.94zm10 10l.94 2.06.94-2.06 2.06-.94-2.06-.94-.94-2.06-.94 2.06-2.06.94z\"/><path d=\"M17.41 7.96l-1.37-1.37c-.4-.4-.92-.59-1.43-.59-.52 0-1.04.2-1.43.59L10.3 9.45l-7.72 7.72c-.78.78-.78 2.05 0 2.83L4 21.41c.39.39.9.59 1.41.59.51 0 1.02-.2 1.41-.59l7.78-7.78 2.81-2.81c.8-.78.8-2.07 0-2.86zM5.41 20L4 18.59l7.72-7.72 1.47 1.35L5.41 20z\"/>\n",
              "  </svg>\n",
              "      </button>\n",
              "      \n",
              "  <style>\n",
              "    .colab-df-container {\n",
              "      display:flex;\n",
              "      flex-wrap:wrap;\n",
              "      gap: 12px;\n",
              "    }\n",
              "\n",
              "    .colab-df-convert {\n",
              "      background-color: #E8F0FE;\n",
              "      border: none;\n",
              "      border-radius: 50%;\n",
              "      cursor: pointer;\n",
              "      display: none;\n",
              "      fill: #1967D2;\n",
              "      height: 32px;\n",
              "      padding: 0 0 0 0;\n",
              "      width: 32px;\n",
              "    }\n",
              "\n",
              "    .colab-df-convert:hover {\n",
              "      background-color: #E2EBFA;\n",
              "      box-shadow: 0px 1px 2px rgba(60, 64, 67, 0.3), 0px 1px 3px 1px rgba(60, 64, 67, 0.15);\n",
              "      fill: #174EA6;\n",
              "    }\n",
              "\n",
              "    [theme=dark] .colab-df-convert {\n",
              "      background-color: #3B4455;\n",
              "      fill: #D2E3FC;\n",
              "    }\n",
              "\n",
              "    [theme=dark] .colab-df-convert:hover {\n",
              "      background-color: #434B5C;\n",
              "      box-shadow: 0px 1px 3px 1px rgba(0, 0, 0, 0.15);\n",
              "      filter: drop-shadow(0px 1px 2px rgba(0, 0, 0, 0.3));\n",
              "      fill: #FFFFFF;\n",
              "    }\n",
              "  </style>\n",
              "\n",
              "      <script>\n",
              "        const buttonEl =\n",
              "          document.querySelector('#df-92e48db2-1a70-4947-b80a-874018a1217d button.colab-df-convert');\n",
              "        buttonEl.style.display =\n",
              "          google.colab.kernel.accessAllowed ? 'block' : 'none';\n",
              "\n",
              "        async function convertToInteractive(key) {\n",
              "          const element = document.querySelector('#df-92e48db2-1a70-4947-b80a-874018a1217d');\n",
              "          const dataTable =\n",
              "            await google.colab.kernel.invokeFunction('convertToInteractive',\n",
              "                                                     [key], {});\n",
              "          if (!dataTable) return;\n",
              "\n",
              "          const docLinkHtml = 'Like what you see? Visit the ' +\n",
              "            '<a target=\"_blank\" href=https://colab.research.google.com/notebooks/data_table.ipynb>data table notebook</a>'\n",
              "            + ' to learn more about interactive tables.';\n",
              "          element.innerHTML = '';\n",
              "          dataTable['output_type'] = 'display_data';\n",
              "          await google.colab.output.renderOutput(dataTable, element);\n",
              "          const docLink = document.createElement('div');\n",
              "          docLink.innerHTML = docLinkHtml;\n",
              "          element.appendChild(docLink);\n",
              "        }\n",
              "      </script>\n",
              "    </div>\n",
              "  </div>\n",
              "  "
            ]
          },
          "metadata": {},
          "execution_count": 17
        }
      ]
    },
    {
      "cell_type": "code",
      "execution_count": 18,
      "metadata": {
        "colab": {
          "base_uri": "https://localhost:8080/",
          "height": 254
        },
        "id": "LmwWmqWx6Lfo",
        "outputId": "8f0f9705-4bff-4a10-dc30-1ee11a2250d2"
      },
      "outputs": [
        {
          "output_type": "stream",
          "name": "stdout",
          "text": [
            "Dimensiones de neigh_dummies_test: (1500, 33)\n"
          ]
        },
        {
          "output_type": "execute_result",
          "data": {
            "text/plain": [
              "      Barking and Dagenham  Barnet  Bexley  Brent  Bromley  Camden  \\\n",
              "2175                     0       0       0      0        0       0   \n",
              "3156                     0       0       0      0        0       1   \n",
              "337                      0       0       0      0        0       1   \n",
              "444                      0       0       0      0        0       0   \n",
              "2334                     0       0       0      0        0       0   \n",
              "\n",
              "      City of London  Croydon  Ealing  Enfield  ...  Merton  Newham  \\\n",
              "2175               0        0       0        0  ...       0       0   \n",
              "3156               0        0       0        0  ...       0       0   \n",
              "337                0        0       0        0  ...       0       0   \n",
              "444                0        0       0        0  ...       0       0   \n",
              "2334               0        0       0        0  ...       0       0   \n",
              "\n",
              "      Redbridge  Richmond upon Thames  Southwark  Sutton  Tower Hamlets  \\\n",
              "2175          0                     0          0       0              0   \n",
              "3156          0                     0          0       0              0   \n",
              "337           0                     0          0       0              0   \n",
              "444           0                     0          0       0              0   \n",
              "2334          0                     0          0       1              0   \n",
              "\n",
              "      Waltham Forest  Wandsworth  Westminster  \n",
              "2175               0           0            0  \n",
              "3156               0           0            0  \n",
              "337                0           0            0  \n",
              "444                0           0            0  \n",
              "2334               0           0            0  \n",
              "\n",
              "[5 rows x 33 columns]"
            ],
            "text/html": [
              "\n",
              "  <div id=\"df-59f2354b-3295-4c13-a750-b855e80764c3\">\n",
              "    <div class=\"colab-df-container\">\n",
              "      <div>\n",
              "<style scoped>\n",
              "    .dataframe tbody tr th:only-of-type {\n",
              "        vertical-align: middle;\n",
              "    }\n",
              "\n",
              "    .dataframe tbody tr th {\n",
              "        vertical-align: top;\n",
              "    }\n",
              "\n",
              "    .dataframe thead th {\n",
              "        text-align: right;\n",
              "    }\n",
              "</style>\n",
              "<table border=\"1\" class=\"dataframe\">\n",
              "  <thead>\n",
              "    <tr style=\"text-align: right;\">\n",
              "      <th></th>\n",
              "      <th>Barking and Dagenham</th>\n",
              "      <th>Barnet</th>\n",
              "      <th>Bexley</th>\n",
              "      <th>Brent</th>\n",
              "      <th>Bromley</th>\n",
              "      <th>Camden</th>\n",
              "      <th>City of London</th>\n",
              "      <th>Croydon</th>\n",
              "      <th>Ealing</th>\n",
              "      <th>Enfield</th>\n",
              "      <th>...</th>\n",
              "      <th>Merton</th>\n",
              "      <th>Newham</th>\n",
              "      <th>Redbridge</th>\n",
              "      <th>Richmond upon Thames</th>\n",
              "      <th>Southwark</th>\n",
              "      <th>Sutton</th>\n",
              "      <th>Tower Hamlets</th>\n",
              "      <th>Waltham Forest</th>\n",
              "      <th>Wandsworth</th>\n",
              "      <th>Westminster</th>\n",
              "    </tr>\n",
              "  </thead>\n",
              "  <tbody>\n",
              "    <tr>\n",
              "      <th>2175</th>\n",
              "      <td>0</td>\n",
              "      <td>0</td>\n",
              "      <td>0</td>\n",
              "      <td>0</td>\n",
              "      <td>0</td>\n",
              "      <td>0</td>\n",
              "      <td>0</td>\n",
              "      <td>0</td>\n",
              "      <td>0</td>\n",
              "      <td>0</td>\n",
              "      <td>...</td>\n",
              "      <td>0</td>\n",
              "      <td>0</td>\n",
              "      <td>0</td>\n",
              "      <td>0</td>\n",
              "      <td>0</td>\n",
              "      <td>0</td>\n",
              "      <td>0</td>\n",
              "      <td>0</td>\n",
              "      <td>0</td>\n",
              "      <td>0</td>\n",
              "    </tr>\n",
              "    <tr>\n",
              "      <th>3156</th>\n",
              "      <td>0</td>\n",
              "      <td>0</td>\n",
              "      <td>0</td>\n",
              "      <td>0</td>\n",
              "      <td>0</td>\n",
              "      <td>1</td>\n",
              "      <td>0</td>\n",
              "      <td>0</td>\n",
              "      <td>0</td>\n",
              "      <td>0</td>\n",
              "      <td>...</td>\n",
              "      <td>0</td>\n",
              "      <td>0</td>\n",
              "      <td>0</td>\n",
              "      <td>0</td>\n",
              "      <td>0</td>\n",
              "      <td>0</td>\n",
              "      <td>0</td>\n",
              "      <td>0</td>\n",
              "      <td>0</td>\n",
              "      <td>0</td>\n",
              "    </tr>\n",
              "    <tr>\n",
              "      <th>337</th>\n",
              "      <td>0</td>\n",
              "      <td>0</td>\n",
              "      <td>0</td>\n",
              "      <td>0</td>\n",
              "      <td>0</td>\n",
              "      <td>1</td>\n",
              "      <td>0</td>\n",
              "      <td>0</td>\n",
              "      <td>0</td>\n",
              "      <td>0</td>\n",
              "      <td>...</td>\n",
              "      <td>0</td>\n",
              "      <td>0</td>\n",
              "      <td>0</td>\n",
              "      <td>0</td>\n",
              "      <td>0</td>\n",
              "      <td>0</td>\n",
              "      <td>0</td>\n",
              "      <td>0</td>\n",
              "      <td>0</td>\n",
              "      <td>0</td>\n",
              "    </tr>\n",
              "    <tr>\n",
              "      <th>444</th>\n",
              "      <td>0</td>\n",
              "      <td>0</td>\n",
              "      <td>0</td>\n",
              "      <td>0</td>\n",
              "      <td>0</td>\n",
              "      <td>0</td>\n",
              "      <td>0</td>\n",
              "      <td>0</td>\n",
              "      <td>0</td>\n",
              "      <td>0</td>\n",
              "      <td>...</td>\n",
              "      <td>0</td>\n",
              "      <td>0</td>\n",
              "      <td>0</td>\n",
              "      <td>0</td>\n",
              "      <td>0</td>\n",
              "      <td>0</td>\n",
              "      <td>0</td>\n",
              "      <td>0</td>\n",
              "      <td>0</td>\n",
              "      <td>0</td>\n",
              "    </tr>\n",
              "    <tr>\n",
              "      <th>2334</th>\n",
              "      <td>0</td>\n",
              "      <td>0</td>\n",
              "      <td>0</td>\n",
              "      <td>0</td>\n",
              "      <td>0</td>\n",
              "      <td>0</td>\n",
              "      <td>0</td>\n",
              "      <td>0</td>\n",
              "      <td>0</td>\n",
              "      <td>0</td>\n",
              "      <td>...</td>\n",
              "      <td>0</td>\n",
              "      <td>0</td>\n",
              "      <td>0</td>\n",
              "      <td>0</td>\n",
              "      <td>0</td>\n",
              "      <td>1</td>\n",
              "      <td>0</td>\n",
              "      <td>0</td>\n",
              "      <td>0</td>\n",
              "      <td>0</td>\n",
              "    </tr>\n",
              "  </tbody>\n",
              "</table>\n",
              "<p>5 rows × 33 columns</p>\n",
              "</div>\n",
              "      <button class=\"colab-df-convert\" onclick=\"convertToInteractive('df-59f2354b-3295-4c13-a750-b855e80764c3')\"\n",
              "              title=\"Convert this dataframe to an interactive table.\"\n",
              "              style=\"display:none;\">\n",
              "        \n",
              "  <svg xmlns=\"http://www.w3.org/2000/svg\" height=\"24px\"viewBox=\"0 0 24 24\"\n",
              "       width=\"24px\">\n",
              "    <path d=\"M0 0h24v24H0V0z\" fill=\"none\"/>\n",
              "    <path d=\"M18.56 5.44l.94 2.06.94-2.06 2.06-.94-2.06-.94-.94-2.06-.94 2.06-2.06.94zm-11 1L8.5 8.5l.94-2.06 2.06-.94-2.06-.94L8.5 2.5l-.94 2.06-2.06.94zm10 10l.94 2.06.94-2.06 2.06-.94-2.06-.94-.94-2.06-.94 2.06-2.06.94z\"/><path d=\"M17.41 7.96l-1.37-1.37c-.4-.4-.92-.59-1.43-.59-.52 0-1.04.2-1.43.59L10.3 9.45l-7.72 7.72c-.78.78-.78 2.05 0 2.83L4 21.41c.39.39.9.59 1.41.59.51 0 1.02-.2 1.41-.59l7.78-7.78 2.81-2.81c.8-.78.8-2.07 0-2.86zM5.41 20L4 18.59l7.72-7.72 1.47 1.35L5.41 20z\"/>\n",
              "  </svg>\n",
              "      </button>\n",
              "      \n",
              "  <style>\n",
              "    .colab-df-container {\n",
              "      display:flex;\n",
              "      flex-wrap:wrap;\n",
              "      gap: 12px;\n",
              "    }\n",
              "\n",
              "    .colab-df-convert {\n",
              "      background-color: #E8F0FE;\n",
              "      border: none;\n",
              "      border-radius: 50%;\n",
              "      cursor: pointer;\n",
              "      display: none;\n",
              "      fill: #1967D2;\n",
              "      height: 32px;\n",
              "      padding: 0 0 0 0;\n",
              "      width: 32px;\n",
              "    }\n",
              "\n",
              "    .colab-df-convert:hover {\n",
              "      background-color: #E2EBFA;\n",
              "      box-shadow: 0px 1px 2px rgba(60, 64, 67, 0.3), 0px 1px 3px 1px rgba(60, 64, 67, 0.15);\n",
              "      fill: #174EA6;\n",
              "    }\n",
              "\n",
              "    [theme=dark] .colab-df-convert {\n",
              "      background-color: #3B4455;\n",
              "      fill: #D2E3FC;\n",
              "    }\n",
              "\n",
              "    [theme=dark] .colab-df-convert:hover {\n",
              "      background-color: #434B5C;\n",
              "      box-shadow: 0px 1px 3px 1px rgba(0, 0, 0, 0.15);\n",
              "      filter: drop-shadow(0px 1px 2px rgba(0, 0, 0, 0.3));\n",
              "      fill: #FFFFFF;\n",
              "    }\n",
              "  </style>\n",
              "\n",
              "      <script>\n",
              "        const buttonEl =\n",
              "          document.querySelector('#df-59f2354b-3295-4c13-a750-b855e80764c3 button.colab-df-convert');\n",
              "        buttonEl.style.display =\n",
              "          google.colab.kernel.accessAllowed ? 'block' : 'none';\n",
              "\n",
              "        async function convertToInteractive(key) {\n",
              "          const element = document.querySelector('#df-59f2354b-3295-4c13-a750-b855e80764c3');\n",
              "          const dataTable =\n",
              "            await google.colab.kernel.invokeFunction('convertToInteractive',\n",
              "                                                     [key], {});\n",
              "          if (!dataTable) return;\n",
              "\n",
              "          const docLinkHtml = 'Like what you see? Visit the ' +\n",
              "            '<a target=\"_blank\" href=https://colab.research.google.com/notebooks/data_table.ipynb>data table notebook</a>'\n",
              "            + ' to learn more about interactive tables.';\n",
              "          element.innerHTML = '';\n",
              "          dataTable['output_type'] = 'display_data';\n",
              "          await google.colab.output.renderOutput(dataTable, element);\n",
              "          const docLink = document.createElement('div');\n",
              "          docLink.innerHTML = docLinkHtml;\n",
              "          element.appendChild(docLink);\n",
              "        }\n",
              "      </script>\n",
              "    </div>\n",
              "  </div>\n",
              "  "
            ]
          },
          "metadata": {},
          "execution_count": 18
        }
      ],
      "source": [
        "## Imprimo las dimensiones y las primeras 5 líneas de las dummies generadas para la variable neighbourhood del set de test.\n",
        "print(f'Dimensiones de neigh_dummies_test: {neigh_dummies_test.shape}')\n",
        "neigh_dummies_test.head()"
      ]
    },
    {
      "cell_type": "code",
      "execution_count": 19,
      "metadata": {
        "colab": {
          "base_uri": "https://localhost:8080/",
          "height": 225
        },
        "id": "qdGPJ4tONfhJ",
        "outputId": "6e89d470-8b6c-4065-8cf7-59b76733f2d4"
      },
      "outputs": [
        {
          "output_type": "stream",
          "name": "stdout",
          "text": [
            "Dimensiones de room_dummies_train: (3500, 3)\n"
          ]
        },
        {
          "output_type": "execute_result",
          "data": {
            "text/plain": [
              "      Entire home/apt  Private room  Shared room\n",
              "2599                0             1            0\n",
              "3847                0             1            0\n",
              "1012                0             1            0\n",
              "3714                1             0            0\n",
              "3080                0             1            0"
            ],
            "text/html": [
              "\n",
              "  <div id=\"df-03ec6bf5-b9eb-459b-9f68-7edf9507b5fd\">\n",
              "    <div class=\"colab-df-container\">\n",
              "      <div>\n",
              "<style scoped>\n",
              "    .dataframe tbody tr th:only-of-type {\n",
              "        vertical-align: middle;\n",
              "    }\n",
              "\n",
              "    .dataframe tbody tr th {\n",
              "        vertical-align: top;\n",
              "    }\n",
              "\n",
              "    .dataframe thead th {\n",
              "        text-align: right;\n",
              "    }\n",
              "</style>\n",
              "<table border=\"1\" class=\"dataframe\">\n",
              "  <thead>\n",
              "    <tr style=\"text-align: right;\">\n",
              "      <th></th>\n",
              "      <th>Entire home/apt</th>\n",
              "      <th>Private room</th>\n",
              "      <th>Shared room</th>\n",
              "    </tr>\n",
              "  </thead>\n",
              "  <tbody>\n",
              "    <tr>\n",
              "      <th>2599</th>\n",
              "      <td>0</td>\n",
              "      <td>1</td>\n",
              "      <td>0</td>\n",
              "    </tr>\n",
              "    <tr>\n",
              "      <th>3847</th>\n",
              "      <td>0</td>\n",
              "      <td>1</td>\n",
              "      <td>0</td>\n",
              "    </tr>\n",
              "    <tr>\n",
              "      <th>1012</th>\n",
              "      <td>0</td>\n",
              "      <td>1</td>\n",
              "      <td>0</td>\n",
              "    </tr>\n",
              "    <tr>\n",
              "      <th>3714</th>\n",
              "      <td>1</td>\n",
              "      <td>0</td>\n",
              "      <td>0</td>\n",
              "    </tr>\n",
              "    <tr>\n",
              "      <th>3080</th>\n",
              "      <td>0</td>\n",
              "      <td>1</td>\n",
              "      <td>0</td>\n",
              "    </tr>\n",
              "  </tbody>\n",
              "</table>\n",
              "</div>\n",
              "      <button class=\"colab-df-convert\" onclick=\"convertToInteractive('df-03ec6bf5-b9eb-459b-9f68-7edf9507b5fd')\"\n",
              "              title=\"Convert this dataframe to an interactive table.\"\n",
              "              style=\"display:none;\">\n",
              "        \n",
              "  <svg xmlns=\"http://www.w3.org/2000/svg\" height=\"24px\"viewBox=\"0 0 24 24\"\n",
              "       width=\"24px\">\n",
              "    <path d=\"M0 0h24v24H0V0z\" fill=\"none\"/>\n",
              "    <path d=\"M18.56 5.44l.94 2.06.94-2.06 2.06-.94-2.06-.94-.94-2.06-.94 2.06-2.06.94zm-11 1L8.5 8.5l.94-2.06 2.06-.94-2.06-.94L8.5 2.5l-.94 2.06-2.06.94zm10 10l.94 2.06.94-2.06 2.06-.94-2.06-.94-.94-2.06-.94 2.06-2.06.94z\"/><path d=\"M17.41 7.96l-1.37-1.37c-.4-.4-.92-.59-1.43-.59-.52 0-1.04.2-1.43.59L10.3 9.45l-7.72 7.72c-.78.78-.78 2.05 0 2.83L4 21.41c.39.39.9.59 1.41.59.51 0 1.02-.2 1.41-.59l7.78-7.78 2.81-2.81c.8-.78.8-2.07 0-2.86zM5.41 20L4 18.59l7.72-7.72 1.47 1.35L5.41 20z\"/>\n",
              "  </svg>\n",
              "      </button>\n",
              "      \n",
              "  <style>\n",
              "    .colab-df-container {\n",
              "      display:flex;\n",
              "      flex-wrap:wrap;\n",
              "      gap: 12px;\n",
              "    }\n",
              "\n",
              "    .colab-df-convert {\n",
              "      background-color: #E8F0FE;\n",
              "      border: none;\n",
              "      border-radius: 50%;\n",
              "      cursor: pointer;\n",
              "      display: none;\n",
              "      fill: #1967D2;\n",
              "      height: 32px;\n",
              "      padding: 0 0 0 0;\n",
              "      width: 32px;\n",
              "    }\n",
              "\n",
              "    .colab-df-convert:hover {\n",
              "      background-color: #E2EBFA;\n",
              "      box-shadow: 0px 1px 2px rgba(60, 64, 67, 0.3), 0px 1px 3px 1px rgba(60, 64, 67, 0.15);\n",
              "      fill: #174EA6;\n",
              "    }\n",
              "\n",
              "    [theme=dark] .colab-df-convert {\n",
              "      background-color: #3B4455;\n",
              "      fill: #D2E3FC;\n",
              "    }\n",
              "\n",
              "    [theme=dark] .colab-df-convert:hover {\n",
              "      background-color: #434B5C;\n",
              "      box-shadow: 0px 1px 3px 1px rgba(0, 0, 0, 0.15);\n",
              "      filter: drop-shadow(0px 1px 2px rgba(0, 0, 0, 0.3));\n",
              "      fill: #FFFFFF;\n",
              "    }\n",
              "  </style>\n",
              "\n",
              "      <script>\n",
              "        const buttonEl =\n",
              "          document.querySelector('#df-03ec6bf5-b9eb-459b-9f68-7edf9507b5fd button.colab-df-convert');\n",
              "        buttonEl.style.display =\n",
              "          google.colab.kernel.accessAllowed ? 'block' : 'none';\n",
              "\n",
              "        async function convertToInteractive(key) {\n",
              "          const element = document.querySelector('#df-03ec6bf5-b9eb-459b-9f68-7edf9507b5fd');\n",
              "          const dataTable =\n",
              "            await google.colab.kernel.invokeFunction('convertToInteractive',\n",
              "                                                     [key], {});\n",
              "          if (!dataTable) return;\n",
              "\n",
              "          const docLinkHtml = 'Like what you see? Visit the ' +\n",
              "            '<a target=\"_blank\" href=https://colab.research.google.com/notebooks/data_table.ipynb>data table notebook</a>'\n",
              "            + ' to learn more about interactive tables.';\n",
              "          element.innerHTML = '';\n",
              "          dataTable['output_type'] = 'display_data';\n",
              "          await google.colab.output.renderOutput(dataTable, element);\n",
              "          const docLink = document.createElement('div');\n",
              "          docLink.innerHTML = docLinkHtml;\n",
              "          element.appendChild(docLink);\n",
              "        }\n",
              "      </script>\n",
              "    </div>\n",
              "  </div>\n",
              "  "
            ]
          },
          "metadata": {},
          "execution_count": 19
        }
      ],
      "source": [
        "## Imprimo las dimensiones y las primeras 5 líneas de las dummies generadas para la variable room_type del set de train.\n",
        "print(f'Dimensiones de room_dummies_train: {room_dummies_train.shape}')\n",
        "room_dummies_train.head(5)"
      ]
    },
    {
      "cell_type": "code",
      "source": [
        "## Imprimo las dimensiones y las primeras 5 líneas de las dummies generadas para la variable room_type del set de test.\n",
        "print(f'Dimensiones de room_dummies_train: {room_dummies_test.shape}')\n",
        "room_dummies_test.head(5)"
      ],
      "metadata": {
        "colab": {
          "base_uri": "https://localhost:8080/",
          "height": 225
        },
        "id": "vQYxA_1-4-qY",
        "outputId": "9a40a3ee-56cb-4349-8b70-89f2f546b28c"
      },
      "execution_count": 20,
      "outputs": [
        {
          "output_type": "stream",
          "name": "stdout",
          "text": [
            "Dimensiones de room_dummies_train: (1500, 3)\n"
          ]
        },
        {
          "output_type": "execute_result",
          "data": {
            "text/plain": [
              "      Entire home/apt  Private room  Shared room\n",
              "2175                0             1            0\n",
              "3156                0             1            0\n",
              "337                 1             0            0\n",
              "444                 0             1            0\n",
              "2334                1             0            0"
            ],
            "text/html": [
              "\n",
              "  <div id=\"df-5184f20d-4bf4-4f6f-bb49-3f02abbe128c\">\n",
              "    <div class=\"colab-df-container\">\n",
              "      <div>\n",
              "<style scoped>\n",
              "    .dataframe tbody tr th:only-of-type {\n",
              "        vertical-align: middle;\n",
              "    }\n",
              "\n",
              "    .dataframe tbody tr th {\n",
              "        vertical-align: top;\n",
              "    }\n",
              "\n",
              "    .dataframe thead th {\n",
              "        text-align: right;\n",
              "    }\n",
              "</style>\n",
              "<table border=\"1\" class=\"dataframe\">\n",
              "  <thead>\n",
              "    <tr style=\"text-align: right;\">\n",
              "      <th></th>\n",
              "      <th>Entire home/apt</th>\n",
              "      <th>Private room</th>\n",
              "      <th>Shared room</th>\n",
              "    </tr>\n",
              "  </thead>\n",
              "  <tbody>\n",
              "    <tr>\n",
              "      <th>2175</th>\n",
              "      <td>0</td>\n",
              "      <td>1</td>\n",
              "      <td>0</td>\n",
              "    </tr>\n",
              "    <tr>\n",
              "      <th>3156</th>\n",
              "      <td>0</td>\n",
              "      <td>1</td>\n",
              "      <td>0</td>\n",
              "    </tr>\n",
              "    <tr>\n",
              "      <th>337</th>\n",
              "      <td>1</td>\n",
              "      <td>0</td>\n",
              "      <td>0</td>\n",
              "    </tr>\n",
              "    <tr>\n",
              "      <th>444</th>\n",
              "      <td>0</td>\n",
              "      <td>1</td>\n",
              "      <td>0</td>\n",
              "    </tr>\n",
              "    <tr>\n",
              "      <th>2334</th>\n",
              "      <td>1</td>\n",
              "      <td>0</td>\n",
              "      <td>0</td>\n",
              "    </tr>\n",
              "  </tbody>\n",
              "</table>\n",
              "</div>\n",
              "      <button class=\"colab-df-convert\" onclick=\"convertToInteractive('df-5184f20d-4bf4-4f6f-bb49-3f02abbe128c')\"\n",
              "              title=\"Convert this dataframe to an interactive table.\"\n",
              "              style=\"display:none;\">\n",
              "        \n",
              "  <svg xmlns=\"http://www.w3.org/2000/svg\" height=\"24px\"viewBox=\"0 0 24 24\"\n",
              "       width=\"24px\">\n",
              "    <path d=\"M0 0h24v24H0V0z\" fill=\"none\"/>\n",
              "    <path d=\"M18.56 5.44l.94 2.06.94-2.06 2.06-.94-2.06-.94-.94-2.06-.94 2.06-2.06.94zm-11 1L8.5 8.5l.94-2.06 2.06-.94-2.06-.94L8.5 2.5l-.94 2.06-2.06.94zm10 10l.94 2.06.94-2.06 2.06-.94-2.06-.94-.94-2.06-.94 2.06-2.06.94z\"/><path d=\"M17.41 7.96l-1.37-1.37c-.4-.4-.92-.59-1.43-.59-.52 0-1.04.2-1.43.59L10.3 9.45l-7.72 7.72c-.78.78-.78 2.05 0 2.83L4 21.41c.39.39.9.59 1.41.59.51 0 1.02-.2 1.41-.59l7.78-7.78 2.81-2.81c.8-.78.8-2.07 0-2.86zM5.41 20L4 18.59l7.72-7.72 1.47 1.35L5.41 20z\"/>\n",
              "  </svg>\n",
              "      </button>\n",
              "      \n",
              "  <style>\n",
              "    .colab-df-container {\n",
              "      display:flex;\n",
              "      flex-wrap:wrap;\n",
              "      gap: 12px;\n",
              "    }\n",
              "\n",
              "    .colab-df-convert {\n",
              "      background-color: #E8F0FE;\n",
              "      border: none;\n",
              "      border-radius: 50%;\n",
              "      cursor: pointer;\n",
              "      display: none;\n",
              "      fill: #1967D2;\n",
              "      height: 32px;\n",
              "      padding: 0 0 0 0;\n",
              "      width: 32px;\n",
              "    }\n",
              "\n",
              "    .colab-df-convert:hover {\n",
              "      background-color: #E2EBFA;\n",
              "      box-shadow: 0px 1px 2px rgba(60, 64, 67, 0.3), 0px 1px 3px 1px rgba(60, 64, 67, 0.15);\n",
              "      fill: #174EA6;\n",
              "    }\n",
              "\n",
              "    [theme=dark] .colab-df-convert {\n",
              "      background-color: #3B4455;\n",
              "      fill: #D2E3FC;\n",
              "    }\n",
              "\n",
              "    [theme=dark] .colab-df-convert:hover {\n",
              "      background-color: #434B5C;\n",
              "      box-shadow: 0px 1px 3px 1px rgba(0, 0, 0, 0.15);\n",
              "      filter: drop-shadow(0px 1px 2px rgba(0, 0, 0, 0.3));\n",
              "      fill: #FFFFFF;\n",
              "    }\n",
              "  </style>\n",
              "\n",
              "      <script>\n",
              "        const buttonEl =\n",
              "          document.querySelector('#df-5184f20d-4bf4-4f6f-bb49-3f02abbe128c button.colab-df-convert');\n",
              "        buttonEl.style.display =\n",
              "          google.colab.kernel.accessAllowed ? 'block' : 'none';\n",
              "\n",
              "        async function convertToInteractive(key) {\n",
              "          const element = document.querySelector('#df-5184f20d-4bf4-4f6f-bb49-3f02abbe128c');\n",
              "          const dataTable =\n",
              "            await google.colab.kernel.invokeFunction('convertToInteractive',\n",
              "                                                     [key], {});\n",
              "          if (!dataTable) return;\n",
              "\n",
              "          const docLinkHtml = 'Like what you see? Visit the ' +\n",
              "            '<a target=\"_blank\" href=https://colab.research.google.com/notebooks/data_table.ipynb>data table notebook</a>'\n",
              "            + ' to learn more about interactive tables.';\n",
              "          element.innerHTML = '';\n",
              "          dataTable['output_type'] = 'display_data';\n",
              "          await google.colab.output.renderOutput(dataTable, element);\n",
              "          const docLink = document.createElement('div');\n",
              "          docLink.innerHTML = docLinkHtml;\n",
              "          element.appendChild(docLink);\n",
              "        }\n",
              "      </script>\n",
              "    </div>\n",
              "  </div>\n",
              "  "
            ]
          },
          "metadata": {},
          "execution_count": 20
        }
      ]
    },
    {
      "cell_type": "code",
      "source": [
        "## Elimino las variables neighbourhood y room_type del train y test set.\n",
        "xtrain = xtrain.drop(columns=['neighbourhood','room_type'])\n",
        "xtest = xtest.drop(columns=['neighbourhood','room_type'])"
      ],
      "metadata": {
        "id": "MMZh8dGC3R4s"
      },
      "execution_count": 21,
      "outputs": []
    },
    {
      "cell_type": "markdown",
      "metadata": {
        "id": "mfDnVu6hkuYB"
      },
      "source": [
        "##### **Objetivo 8**\n",
        "Con el StandardScaler generado en la linea siguiente, realizar el transform para el xtrain y xtest guardandolos en nuevas variables llamadas \"xtrain_scal\" y \"xtest_scal\".\n"
      ]
    },
    {
      "cell_type": "code",
      "execution_count": 22,
      "metadata": {
        "id": "QgDYMr1qNfhL"
      },
      "outputs": [],
      "source": [
        "scaler = preprocessing.StandardScaler().fit(xtrain)"
      ]
    },
    {
      "cell_type": "code",
      "execution_count": 23,
      "metadata": {
        "id": "PTdTOdUANfhL"
      },
      "outputs": [],
      "source": [
        "## Transformo los datos de \"xtrain\" y los guardo en una nueva variabel llamada \"xtrain_scal\".\n",
        "xtrain_scal = scaler.transform(xtrain)"
      ]
    },
    {
      "cell_type": "code",
      "execution_count": 24,
      "metadata": {
        "id": "xJX0JJI7kuYC"
      },
      "outputs": [],
      "source": [
        "## Transformo los datos de \"xtest\" y los guardo en una nueva variabel llamada \"xtest_scal\".\n",
        "xtest_scal = scaler.transform(xtest)"
      ]
    },
    {
      "cell_type": "code",
      "source": [
        "type(xtest_scal)"
      ],
      "metadata": {
        "colab": {
          "base_uri": "https://localhost:8080/"
        },
        "id": "1Oz3Gs6x_W6c",
        "outputId": "5e6425ce-4624-43ab-900a-6a31538e22b1"
      },
      "execution_count": 25,
      "outputs": [
        {
          "output_type": "execute_result",
          "data": {
            "text/plain": [
              "numpy.ndarray"
            ]
          },
          "metadata": {},
          "execution_count": 25
        }
      ]
    },
    {
      "cell_type": "code",
      "execution_count": 26,
      "metadata": {
        "id": "Fefwkrie46M6"
      },
      "outputs": [],
      "source": [
        "## Uno las dummies al los sets de train y test ya escaldos.\n",
        "xtrain_scal = np.concatenate((xtrain_scal, neigh_dummies_train, room_dummies_train), axis=1)\n",
        "xtest_scal = np.concatenate((xtest_scal, neigh_dummies_test, room_dummies_test), axis=1)"
      ]
    },
    {
      "cell_type": "code",
      "execution_count": 27,
      "metadata": {
        "colab": {
          "base_uri": "https://localhost:8080/"
        },
        "id": "W7LTngHwgOHh",
        "outputId": "4c71f8a6-99d9-49e9-b23a-52d146b29c7b"
      },
      "outputs": [
        {
          "output_type": "stream",
          "name": "stdout",
          "text": [
            "Dimensiones del set de train: (3500, 41)\n",
            "Dimensiones del set de test: (1500, 41)\n"
          ]
        }
      ],
      "source": [
        "## Imprimo las dimensiones los sets de datos luego del procesamiento realizado.\n",
        "print(f'Dimensiones del set de train: {xtrain_scal.shape}')\n",
        "print(f'Dimensiones del set de test: {xtest_scal.shape}')"
      ]
    },
    {
      "cell_type": "markdown",
      "metadata": {
        "id": "_hkXK5_ckuYC"
      },
      "source": [
        "##### **Objetivo 9**\n",
        "Crear un modelo lineal y entrenarlo para nuestro dataset.\n",
        "\n",
        "Obtener las predicciones y el \"mean_squared_error\" para el test set."
      ]
    },
    {
      "cell_type": "code",
      "source": [
        "## Creo un modelo lineal.\n",
        "lin_reg = LinearRegression()\n",
        "\n",
        "## Ajusto el modelo a las muestras de training.\n",
        "lin_reg.fit(xtrain_scal, ytrain)\n",
        "\n",
        "## Obtengo las predicciones a partir de mi modelo lineal entrenado.\n",
        "ypred_lr = lin_reg.predict(xtest_scal)\n",
        "\n",
        "## Imprimo dichas predicciones.\n",
        "print(ypred_lr)"
      ],
      "metadata": {
        "colab": {
          "base_uri": "https://localhost:8080/"
        },
        "id": "4poJ5K0E_M-g",
        "outputId": "3a49d825-1cfb-4273-a296-d0ab73629e1e"
      },
      "execution_count": 28,
      "outputs": [
        {
          "output_type": "stream",
          "name": "stdout",
          "text": [
            "[[ 47.16015625]\n",
            " [ 55.18164062]\n",
            " [137.79882812]\n",
            " ...\n",
            " [ 70.4296875 ]\n",
            " [119.49414062]\n",
            " [148.66210938]]\n"
          ]
        }
      ]
    },
    {
      "cell_type": "code",
      "source": [
        "## Calculo e imprimo el MSE.\n",
        "mse_lr = mean_squared_error(ytest,ypred_lr)\n",
        "mse_lr"
      ],
      "metadata": {
        "colab": {
          "base_uri": "https://localhost:8080/"
        },
        "id": "8Z52hoz6A24g",
        "outputId": "e1ec1996-9039-4413-e8d2-0dd9fc21a901"
      },
      "execution_count": 29,
      "outputs": [
        {
          "output_type": "execute_result",
          "data": {
            "text/plain": [
              "1409.2307271016439"
            ]
          },
          "metadata": {},
          "execution_count": 29
        }
      ]
    },
    {
      "cell_type": "code",
      "source": [
        "## Calculo e imprimo R^2.\n",
        "r2_lr = r2_score(ytest,ypred_lr)\n",
        "r2_lr"
      ],
      "metadata": {
        "colab": {
          "base_uri": "https://localhost:8080/"
        },
        "id": "muGcSAn4-7oi",
        "outputId": "d4a1bd69-78fa-4c33-85db-06e54438b561"
      },
      "execution_count": 30,
      "outputs": [
        {
          "output_type": "execute_result",
          "data": {
            "text/plain": [
              "0.5160198066193075"
            ]
          },
          "metadata": {},
          "execution_count": 30
        }
      ]
    },
    {
      "cell_type": "markdown",
      "metadata": {
        "id": "yQpkINPIkuYD"
      },
      "source": [
        "##### **Objetivo 10**\n",
        "Crear un SVM Regressor y un GridSearch para realizar la búsqueda de hiperparámetros.\n",
        "\n",
        "Asignar dos posibles valores para el parámetro \"kernel\", y tres posibles valores para \"C\" y \"gamma\".\n",
        "\n",
        "Setear al parámetro \"refit\" en True y hacer 5 CrossValidation."
      ]
    },
    {
      "cell_type": "code",
      "execution_count": 31,
      "metadata": {
        "colab": {
          "base_uri": "https://localhost:8080/"
        },
        "id": "cyh2r-iJNfhM",
        "outputId": "af092b57-b4f4-4ba9-d9ec-800bddd00da7"
      },
      "outputs": [
        {
          "output_type": "execute_result",
          "data": {
            "text/plain": [
              "GridSearchCV(cv=5, estimator=SVR(),\n",
              "             param_grid={'C': [10, 100, 500], 'gamma': [0.001, 0.1, 1],\n",
              "                         'kernel': ('sigmoid', 'rbf')})"
            ]
          },
          "metadata": {},
          "execution_count": 31
        }
      ],
      "source": [
        "## Creo el modelo.\n",
        "mod_svmreg = SVR()\n",
        "\n",
        "## Defino los hiperparámetros.\n",
        "hyperparams = {'kernel':('sigmoid', 'rbf'),\n",
        "              'C':[10, 100, 500],\n",
        "              'gamma':[0.001, 0.1, 1]}\n",
        "\n",
        "## Grid Search y Cross Validation para encontrar los mejores parámetros.\n",
        "svmreg = GridSearchCV(mod_svmreg,\n",
        "                   param_grid = hyperparams,\n",
        "                   refit = True, \n",
        "                   cv = 5)\n",
        "\n",
        "## Ajusto el modelo a las muestras de training.\n",
        "svmreg.fit(xtrain_scal, ytrain.ravel())"
      ]
    },
    {
      "cell_type": "code",
      "execution_count": 32,
      "metadata": {
        "colab": {
          "base_uri": "https://localhost:8080/"
        },
        "id": "D8MoJgBF2pr5",
        "outputId": "1d09fdf5-9096-4a35-d668-a2a992cda150"
      },
      "outputs": [
        {
          "output_type": "stream",
          "name": "stdout",
          "text": [
            "[ 35.77834446  42.64468972 103.25102963 ...  72.69980446  88.5070945\n",
            " 132.7191187 ]\n"
          ]
        }
      ],
      "source": [
        "## Obtengo las predicciones a partir de mi modelo entrenado.\n",
        "ypred_svmreg = svmreg.predict(xtest_scal)\n",
        "## Imprimo dichas predicciones.\n",
        "print(ypred_svmreg)"
      ]
    },
    {
      "cell_type": "markdown",
      "metadata": {
        "id": "YOuBv_mfkuYG"
      },
      "source": [
        "##### **Objetivo 11**\n",
        "\n",
        "Mostrar cuales fueron los mejores hiperparámetros y para estos obtener el mean_squared_error en el test set."
      ]
    },
    {
      "cell_type": "code",
      "execution_count": 33,
      "metadata": {
        "colab": {
          "base_uri": "https://localhost:8080/"
        },
        "id": "HHwCIS0mNfhN",
        "outputId": "7924e75d-12d2-4c30-f833-556f243e183f"
      },
      "outputs": [
        {
          "output_type": "stream",
          "name": "stdout",
          "text": [
            "Los mejores hiperparámetros fueron {'C': 100, 'gamma': 0.1, 'kernel': 'rbf'} con un score del 0.4987\n"
          ]
        }
      ],
      "source": [
        "## Muestro cuales fueron los mejores hiperparámetros.\n",
        "print(\"Los mejores hiperparámetros fueron %s con un score del %0.4f\" % (svmreg.best_params_, svmreg.best_score_))"
      ]
    },
    {
      "cell_type": "code",
      "execution_count": 34,
      "metadata": {
        "colab": {
          "base_uri": "https://localhost:8080/"
        },
        "id": "vlMZBccQNfhN",
        "outputId": "600815d0-bad5-4c60-9502-3043b583313f"
      },
      "outputs": [
        {
          "output_type": "execute_result",
          "data": {
            "text/plain": [
              "1446.3059032288056"
            ]
          },
          "metadata": {},
          "execution_count": 34
        }
      ],
      "source": [
        "## Calculo e imprimo el MSE.\n",
        "mse_svmreg = mean_squared_error(ytest,ypred_svmreg)\n",
        "mse_svmreg"
      ]
    },
    {
      "cell_type": "markdown",
      "metadata": {
        "id": "IJQSlAT_kuYH"
      },
      "source": [
        "##### **Objetivo 12**\n",
        "Repetir el objetivo 10 pero ahora seteando nuevos valores para los hiperparámetros mencionados con el objetivo de mejorar las predicciones.\n",
        "\n",
        "Cuales son los mejores hiperparámetros ahora?\n",
        "Obtenemos una mejora en las predicciones?\n",
        "Mostrar los resultados."
      ]
    },
    {
      "cell_type": "code",
      "execution_count": 35,
      "metadata": {
        "colab": {
          "base_uri": "https://localhost:8080/"
        },
        "id": "LmYGwWhokuYI",
        "outputId": "cb5f436c-757f-4fe1-ab5e-13acf51bd2ac"
      },
      "outputs": [
        {
          "output_type": "execute_result",
          "data": {
            "text/plain": [
              "GridSearchCV(cv=5, estimator=SVR(),\n",
              "             param_grid={'C': [10, 100, 200], 'gamma': [0.05, 0.1, 0.5],\n",
              "                         'kernel': ('sigmoid', 'rbf')})"
            ]
          },
          "metadata": {},
          "execution_count": 35
        }
      ],
      "source": [
        "## Creo el nuevo modelo.\n",
        "modelo_svmreg_1 = SVR()\n",
        "\n",
        "## Defino los nuevos hiperparámetros.\n",
        "hyperparams = {'kernel':('sigmoid', 'rbf'),\n",
        "              'C':[10, 100, 200],\n",
        "              'gamma':[0.05, 0.1, 0.5]}\n",
        "\n",
        "## Grid Search y Cross Validation para encontrar los mejores parámetros.\n",
        "reg_1 = GridSearchCV(modelo_svmreg_1,\n",
        "                   param_grid = hyperparams,\n",
        "                   refit = True, \n",
        "                   cv = 5)\n",
        "\n",
        "reg_1.fit(xtrain_scal, ytrain.ravel())"
      ]
    },
    {
      "cell_type": "code",
      "execution_count": 36,
      "metadata": {
        "id": "WyMHn-XYn5Uv",
        "colab": {
          "base_uri": "https://localhost:8080/"
        },
        "outputId": "70137738-43a7-45f9-e3e5-06c7f925e864"
      },
      "outputs": [
        {
          "output_type": "stream",
          "name": "stdout",
          "text": [
            "[ 37.0465891   46.22133961 111.36041911 ...  77.5851018   96.98516286\n",
            " 127.450243  ]\n"
          ]
        }
      ],
      "source": [
        "## Obtengo las predicciones a partir de mi modelo entrenado.\n",
        "ypred_svmreg_1 = reg_1.predict(xtest_scal)\n",
        "## Imprimo dichas predicciones.\n",
        "print(ypred_svmreg_1)"
      ]
    },
    {
      "cell_type": "code",
      "execution_count": 37,
      "metadata": {
        "id": "GyUOMDd7kuYI",
        "colab": {
          "base_uri": "https://localhost:8080/"
        },
        "outputId": "0cb459d8-a3db-46f2-cfdb-105f6e7bb571"
      },
      "outputs": [
        {
          "output_type": "stream",
          "name": "stdout",
          "text": [
            "Los mejores hiperparámetros ahora fueron {'C': 100, 'gamma': 0.05, 'kernel': 'rbf'} con un score del 0.5039\n"
          ]
        }
      ],
      "source": [
        "## Muestro cuales fueron los mejores hiperparámetros en esta ocasión.\n",
        "print(\"Los mejores hiperparámetros ahora fueron %s con un score del %0.4f\" % (reg_1.best_params_, reg_1.best_score_))"
      ]
    },
    {
      "cell_type": "code",
      "execution_count": 38,
      "metadata": {
        "id": "ZJ0-nJNHkuYJ",
        "colab": {
          "base_uri": "https://localhost:8080/"
        },
        "outputId": "6a43b74f-6de5-46ab-97b3-cccb442b4741"
      },
      "outputs": [
        {
          "output_type": "execute_result",
          "data": {
            "text/plain": [
              "1433.023821733112"
            ]
          },
          "metadata": {},
          "execution_count": 38
        }
      ],
      "source": [
        "## Calculo e imprimo el MSE.\n",
        "mse_svmreg_1 = mean_squared_error(ytest,ypred_svmreg_1)\n",
        "mse_svmreg_1"
      ]
    },
    {
      "cell_type": "code",
      "execution_count": 39,
      "metadata": {
        "id": "Q44DJW_k5rXd",
        "colab": {
          "base_uri": "https://localhost:8080/"
        },
        "outputId": "c89ec18f-dcac-400e-d699-e91826c7c0f9"
      },
      "outputs": [
        {
          "output_type": "stream",
          "name": "stdout",
          "text": [
            "El MSE se redujo con respecto al obtenido con el modelo anterior.\n"
          ]
        }
      ],
      "source": [
        "## Comparo los MSE obtenidos.\n",
        "if mse_svmreg_1 < mse_svmreg:\n",
        "  print('El MSE se redujo con respecto al obtenido con el modelo anterior.') \n",
        "elif mse_svmreg_1 == mse_svmreg:\n",
        "  print('El MSE es igual al obtenido con el modelo anterior.') \n",
        "else:\n",
        "  print('El MSE se increnmentó con respecto al obtenido con el modelo anterior.')"
      ]
    },
    {
      "cell_type": "code",
      "source": [
        "## Calculo el R^2 para ambos modelos. El R^2 explica la proporción de la varianza de “y” que explica el modelo de regresión.\n",
        "r2_svmreg = r2_score(ytest,ypred_svmreg)\n",
        "r2_svmreg_1 = r2_score(ytest, ypred_svmreg_1)\n",
        "print(f'El modelo del Objetivo 10 explica {round(r2_svmreg * 100,3)}% de la varianza de \"y\". R2 = {round(r2_svmreg,3)}')\n",
        "print(f'El modelo del Objetivo 12 explica {round(r2_svmreg_1 * 100,3)}% de la varianza de \"y\". R2 = {round(r2_svmreg_1,3)}')\n",
        "print(f'El modelo del Objetivo 8 explica {round(r2_lr * 100,3)}% de la varianza de \"y\". R2 = {round(r2_lr,3)}')"
      ],
      "metadata": {
        "colab": {
          "base_uri": "https://localhost:8080/"
        },
        "id": "bf1PQcbK4v0p",
        "outputId": "de98b1d2-b384-45b6-81d3-9d37a5f26dbb"
      },
      "execution_count": 40,
      "outputs": [
        {
          "output_type": "stream",
          "name": "stdout",
          "text": [
            "El modelo del Objetivo 10 explica 50.329% de la varianza de \"y\". R2 = 0.503\n",
            "El modelo del Objetivo 12 explica 50.785% de la varianza de \"y\". R2 = 0.508\n",
            "El modelo del Objetivo 8 explica 51.602% de la varianza de \"y\". R2 = 0.516\n"
          ]
        }
      ]
    },
    {
      "cell_type": "markdown",
      "source": [
        "En comparación con el modelo creado en el Objetivo 10, las predicciones mejoraron levemente con este último modelo.\n",
        "\n",
        "El modelo lineal creado en el Objetvo 8 fue el que generó las mejores predicciones."
      ],
      "metadata": {
        "id": "wtfek3Zg-fpu"
      }
    }
  ],
  "metadata": {
    "colab": {
      "collapsed_sections": [],
      "provenance": []
    },
    "kernelspec": {
      "display_name": "Python 3 (ipykernel)",
      "language": "python",
      "name": "python3"
    },
    "language_info": {
      "codemirror_mode": {
        "name": "ipython",
        "version": 3
      },
      "file_extension": ".py",
      "mimetype": "text/x-python",
      "name": "python",
      "nbconvert_exporter": "python",
      "pygments_lexer": "ipython3",
      "version": "3.10.6"
    },
    "vscode": {
      "interpreter": {
        "hash": "c63d8c7d738c2960218a10995aedf0a7f67a49a231e71037adf0440953cdb45b"
      }
    }
  },
  "nbformat": 4,
  "nbformat_minor": 0
}